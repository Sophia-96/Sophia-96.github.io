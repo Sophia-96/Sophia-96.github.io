{
 "cells": [
  {
   "cell_type": "code",
   "execution_count": null,
   "metadata": {},
   "outputs": [
    {
     "name": "stderr",
     "output_type": "stream",
     "text": [
      " * Running on http://localhost:9010/ (Press CTRL+C to quit)\n",
      "127.0.0.1 - - [02/May/2020 09:17:41] \"GET / HTTP/1.1\" 200 -\n",
      "127.0.0.1 - - [02/May/2020 09:17:41] \"GET /static/jquery/jquery2-0-3.js HTTP/1.1\" 200 -\n",
      "127.0.0.1 - - [02/May/2020 09:17:41] \"GET /static/font-awesome/font-awesome4-3-0.min.css HTTP/1.1\" 200 -\n",
      "127.0.0.1 - - [02/May/2020 09:17:41] \"GET /static/bootstrap/bootstrap4-4-1.min.css HTTP/1.1\" 200 -\n",
      "127.0.0.1 - - [02/May/2020 09:17:41] \"GET /static/main.css HTTP/1.1\" 200 -\n",
      "127.0.0.1 - - [02/May/2020 09:17:41] \"GET /static/mycss.css HTTP/1.1\" 200 -\n",
      "127.0.0.1 - - [02/May/2020 09:17:41] \"GET /static/bootstrap/bootstrap3-3-4.min.js HTTP/1.1\" 200 -\n",
      "127.0.0.1 - - [02/May/2020 09:17:41] \"GET /static/assets/icon/%E7%83%AD%E9%97%A82.png HTTP/1.1\" 200 -\n",
      "127.0.0.1 - - [02/May/2020 09:17:41] \"GET /static/assets/icon/%E5%88%9B%E4%BD%9C1.png HTTP/1.1\" 200 -\n",
      "127.0.0.1 - - [02/May/2020 09:17:42] \"GET /static/assets/icon/VIP1.png HTTP/1.1\" 200 -\n",
      "127.0.0.1 - - [02/May/2020 09:17:42] \"GET /static/assets/icon/%E6%88%911.png HTTP/1.1\" 200 -\n",
      "127.0.0.1 - - [02/May/2020 09:17:59] \"GET /static/bootstrap/bootstrap.min.css.map HTTP/1.1\" 404 -\n",
      "127.0.0.1 - - [02/May/2020 09:18:20] \"GET /article HTTP/1.1\" 404 -\n",
      "127.0.0.1 - - [02/May/2020 09:18:30] \"GET /static/bootstrap/bootstrap.min.css.map HTTP/1.1\" 404 -\n",
      "127.0.0.1 - - [02/May/2020 09:18:33] \"GET /vip HTTP/1.1\" 404 -\n",
      "127.0.0.1 - - [02/May/2020 09:18:42] \"GET /static/bootstrap/bootstrap.min.css.map HTTP/1.1\" 404 -\n",
      "127.0.0.1 - - [02/May/2020 09:18:43] \"GET /me HTTP/1.1\" 200 -\n",
      "127.0.0.1 - - [02/May/2020 09:18:45] \"GET /me HTTP/1.1\" 200 -\n",
      "127.0.0.1 - - [02/May/2020 09:18:49] \"GET /static/profile_pics/default.jpg HTTP/1.1\" 200 -\n",
      "127.0.0.1 - - [02/May/2020 09:18:49] \"GET /static/assets/icon/%E7%83%AD%E9%97%A81.png HTTP/1.1\" 200 -\n",
      "127.0.0.1 - - [02/May/2020 09:18:50] \"GET /static/assets/icon/%E6%88%912.png HTTP/1.1\" 200 -\n",
      "127.0.0.1 - - [02/May/2020 09:18:50] \"GET /static/bootstrap/bootstrap.min.css.map HTTP/1.1\" 404 -\n",
      "127.0.0.1 - - [02/May/2020 09:18:57] \"GET /home HTTP/1.1\" 404 -\n",
      "127.0.0.1 - - [02/May/2020 09:19:06] \"GET / HTTP/1.1\" 200 -\n",
      "127.0.0.1 - - [02/May/2020 09:19:08] \"GET /static/bootstrap/bootstrap.min.css.map HTTP/1.1\" 404 -\n"
     ]
    }
   ],
   "source": [
    "from fitup import app\n",
    "\n",
    "if __name__ == '__main__':\n",
    "    from werkzeug.serving import run_simple\n",
    "    run_simple('localhost', 9010, app)"
   ]
  },
  {
   "cell_type": "code",
   "execution_count": 1,
   "metadata": {},
   "outputs": [],
   "source": [
    "from fitup import db"
   ]
  },
  {
   "cell_type": "code",
   "execution_count": 2,
   "metadata": {},
   "outputs": [],
   "source": [
    "db.create_all()"
   ]
  },
  {
   "cell_type": "code",
   "execution_count": null,
   "metadata": {},
   "outputs": [],
   "source": []
  }
 ],
 "metadata": {
  "kernelspec": {
   "display_name": "Python 3",
   "language": "python",
   "name": "python3"
  },
  "language_info": {
   "codemirror_mode": {
    "name": "ipython",
    "version": 3
   },
   "file_extension": ".py",
   "mimetype": "text/x-python",
   "name": "python",
   "nbconvert_exporter": "python",
   "pygments_lexer": "ipython3",
   "version": "3.6.9"
  }
 },
 "nbformat": 4,
 "nbformat_minor": 2
}

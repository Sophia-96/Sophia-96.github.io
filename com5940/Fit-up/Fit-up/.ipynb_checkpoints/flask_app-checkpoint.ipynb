{
 "cells": [
  {
   "cell_type": "code",
   "execution_count": null,
   "metadata": {},
   "outputs": [
    {
     "name": "stderr",
     "output_type": "stream",
     "text": [
      " * Running on http://localhost:9010/ (Press CTRL+C to quit)\n",
      "127.0.0.1 - - [07/Apr/2020 11:12:53] \"GET / HTTP/1.1\" 200 -\n",
      "127.0.0.1 - - [07/Apr/2020 11:12:55] \"GET /static/bootstrap/bootstrap.min.css.map HTTP/1.1\" 404 -\n",
      "127.0.0.1 - - [07/Apr/2020 11:12:59] \"GET /bibi HTTP/1.1\" 200 -\n",
      "127.0.0.1 - - [07/Apr/2020 11:12:59] \"GET /static/bootstrap/bootstrap.min.css.map HTTP/1.1\" 404 -\n",
      "127.0.0.1 - - [07/Apr/2020 11:13:07] \"GET /me HTTP/1.1\" 200 -\n",
      "127.0.0.1 - - [07/Apr/2020 11:13:07] \"GET /static/bootstrap/bootstrap.min.css.map HTTP/1.1\" 404 -\n",
      "127.0.0.1 - - [07/Apr/2020 11:13:14] \"GET /bibi HTTP/1.1\" 200 -\n",
      "127.0.0.1 - - [07/Apr/2020 11:13:14] \"GET /static/bootstrap/bootstrap.min.css.map HTTP/1.1\" 404 -\n",
      "127.0.0.1 - - [07/Apr/2020 11:13:17] \"GET /bibitop HTTP/1.1\" 200 -\n",
      "127.0.0.1 - - [07/Apr/2020 11:13:17] \"GET /static/css/font-awesome4-3-0.min.css HTTP/1.1\" 404 -\n",
      "127.0.0.1 - - [07/Apr/2020 11:13:17] \"GET /static/bootstrap/bootstrap.min.css.map HTTP/1.1\" 404 -\n",
      "127.0.0.1 - - [07/Apr/2020 11:15:22] \"GET /static/css/font-awesome4-3-0.min.css HTTP/1.1\" 404 -\n",
      "127.0.0.1 - - [07/Apr/2020 11:15:22] \"GET /static/bootstrap/bootstrap.min.css.map HTTP/1.1\" 404 -\n",
      "127.0.0.1 - - [07/Apr/2020 11:15:26] \"GET /bibi HTTP/1.1\" 200 -\n",
      "127.0.0.1 - - [07/Apr/2020 11:15:27] \"GET /static/bootstrap/bootstrap.min.css.map HTTP/1.1\" 404 -\n",
      "127.0.0.1 - - [07/Apr/2020 11:15:37] \"GET /me HTTP/1.1\" 200 -\n",
      "127.0.0.1 - - [07/Apr/2020 11:15:37] \"GET /static/bootstrap/bootstrap.min.css.map HTTP/1.1\" 404 -\n",
      "127.0.0.1 - - [07/Apr/2020 11:15:42] \"GET /chance HTTP/1.1\" 200 -\n",
      "127.0.0.1 - - [07/Apr/2020 11:15:42] \"GET /static/css/font-awesome4-3-0.min.css HTTP/1.1\" 404 -\n",
      "127.0.0.1 - - [07/Apr/2020 11:15:43] \"GET /static/bootstrap/bootstrap.min.css.map HTTP/1.1\" 404 -\n",
      "127.0.0.1 - - [07/Apr/2020 11:15:52] \"GET /me HTTP/1.1\" 200 -\n",
      "127.0.0.1 - - [07/Apr/2020 11:15:52] \"GET /static/bootstrap/bootstrap.min.css.map HTTP/1.1\" 404 -\n",
      "127.0.0.1 - - [07/Apr/2020 11:16:08] \"GET /chance HTTP/1.1\" 200 -\n",
      "127.0.0.1 - - [07/Apr/2020 11:16:08] \"GET /static/css/font-awesome4-3-0.min.css HTTP/1.1\" 404 -\n",
      "127.0.0.1 - - [07/Apr/2020 11:16:08] \"GET /static/bootstrap/bootstrap.min.css.map HTTP/1.1\" 404 -\n",
      "127.0.0.1 - - [07/Apr/2020 11:16:17] \"GET /bibi HTTP/1.1\" 200 -\n",
      "127.0.0.1 - - [07/Apr/2020 11:16:17] \"GET /static/bootstrap/bootstrap.min.css.map HTTP/1.1\" 404 -\n",
      "127.0.0.1 - - [07/Apr/2020 11:22:46] \"GET /static/bootstrap/bootstrap.min.css.map HTTP/1.1\" 404 -\n",
      "127.0.0.1 - - [07/Apr/2020 11:22:57] \"GET /chance HTTP/1.1\" 200 -\n",
      "127.0.0.1 - - [07/Apr/2020 11:22:57] \"GET /static/css/font-awesome4-3-0.min.css HTTP/1.1\" 404 -\n",
      "127.0.0.1 - - [07/Apr/2020 11:22:58] \"GET /static/css/font-awesome4-3-0.min.css HTTP/1.1\" 404 -\n",
      "127.0.0.1 - - [07/Apr/2020 11:22:58] \"GET /static/bootstrap/bootstrap.min.css.map HTTP/1.1\" 404 -\n",
      "127.0.0.1 - - [07/Apr/2020 11:23:07] \"GET /bibi HTTP/1.1\" 200 -\n",
      "127.0.0.1 - - [07/Apr/2020 11:23:07] \"GET /static/bootstrap/bootstrap.min.css.map HTTP/1.1\" 404 -\n",
      "127.0.0.1 - - [07/Apr/2020 11:23:19] \"GET /me HTTP/1.1\" 200 -\n",
      "127.0.0.1 - - [07/Apr/2020 11:23:20] \"GET /static/bootstrap/bootstrap.min.css.map HTTP/1.1\" 404 -\n",
      "127.0.0.1 - - [07/Apr/2020 11:23:39] \"GET /logout HTTP/1.1\" 302 -\n",
      "127.0.0.1 - - [07/Apr/2020 11:23:39] \"GET / HTTP/1.1\" 200 -\n",
      "127.0.0.1 - - [07/Apr/2020 11:23:39] \"GET /static/bootstrap/bootstrap.min.css.map HTTP/1.1\" 404 -\n",
      "127.0.0.1 - - [07/Apr/2020 11:23:42] \"GET /me HTTP/1.1\" 200 -\n",
      "127.0.0.1 - - [07/Apr/2020 11:23:42] \"GET /static/bootstrap/bootstrap.min.css.map HTTP/1.1\" 404 -\n",
      "127.0.0.1 - - [07/Apr/2020 11:25:35] \"GET /login HTTP/1.1\" 200 -\n",
      "127.0.0.1 - - [07/Apr/2020 11:25:35] \"GET /static/bootstrap/bootstrap.min.css.map HTTP/1.1\" 404 -\n",
      "127.0.0.1 - - [07/Apr/2020 11:25:38] \"POST /login HTTP/1.1\" 302 -\n",
      "127.0.0.1 - - [07/Apr/2020 11:25:38] \"GET / HTTP/1.1\" 200 -\n",
      "127.0.0.1 - - [07/Apr/2020 11:25:39] \"GET /static/bootstrap/bootstrap.min.css.map HTTP/1.1\" 404 -\n",
      "127.0.0.1 - - [07/Apr/2020 11:25:44] \"GET /bibi HTTP/1.1\" 200 -\n",
      "127.0.0.1 - - [07/Apr/2020 11:25:44] \"GET /static/bootstrap/bootstrap.min.css.map HTTP/1.1\" 404 -\n",
      "127.0.0.1 - - [07/Apr/2020 11:25:47] \"GET /post/new HTTP/1.1\" 200 -\n",
      "127.0.0.1 - - [07/Apr/2020 11:25:48] \"GET /static/bootstrap/bootstrap.min.css.map HTTP/1.1\" 404 -\n",
      "127.0.0.1 - - [07/Apr/2020 11:25:57] \"POST /post/new HTTP/1.1\" 302 -\n",
      "127.0.0.1 - - [07/Apr/2020 11:25:59] \"GET /bibi HTTP/1.1\" 200 -\n",
      "127.0.0.1 - - [07/Apr/2020 11:25:59] \"GET /static/bootstrap/bootstrap.min.css.map HTTP/1.1\" 404 -\n",
      "127.0.0.1 - - [07/Apr/2020 11:26:03] \"GET /post/1 HTTP/1.1\" 200 -\n",
      "127.0.0.1 - - [07/Apr/2020 11:26:04] \"GET /static/css/share.min.css HTTP/1.1\" 200 -\n",
      "127.0.0.1 - - [07/Apr/2020 11:26:04] \"GET /static/js/social-share.min.js HTTP/1.1\" 200 -\n",
      "127.0.0.1 - - [07/Apr/2020 11:26:05] \"GET /static/fonts/iconfont.woff HTTP/1.1\" 200 -\n",
      "127.0.0.1 - - [07/Apr/2020 11:26:06] \"GET /static/bootstrap/bootstrap.min.css.map HTTP/1.1\" 404 -\n",
      "127.0.0.1 - - [07/Apr/2020 11:26:14] \"POST /post/1 HTTP/1.1\" 302 -\n",
      "127.0.0.1 - - [07/Apr/2020 11:26:14] \"GET /post/1 HTTP/1.1\" 200 -\n",
      "127.0.0.1 - - [07/Apr/2020 11:26:15] \"GET /static/bootstrap/bootstrap.min.css.map HTTP/1.1\" 404 -\n",
      "127.0.0.1 - - [07/Apr/2020 11:26:22] \"POST /post/1 HTTP/1.1\" 302 -\n",
      "127.0.0.1 - - [07/Apr/2020 11:26:23] \"GET /post/1 HTTP/1.1\" 200 -\n",
      "127.0.0.1 - - [07/Apr/2020 11:26:23] \"GET /static/bootstrap/bootstrap.min.css.map HTTP/1.1\" 404 -\n",
      "127.0.0.1 - - [07/Apr/2020 11:28:26] \"POST /post/1 HTTP/1.1\" 302 -\n",
      "127.0.0.1 - - [07/Apr/2020 11:28:26] \"GET /post/1 HTTP/1.1\" 200 -\n",
      "127.0.0.1 - - [07/Apr/2020 11:28:26] \"GET /static/bootstrap/bootstrap.min.css.map HTTP/1.1\" 404 -\n"
     ]
    }
   ],
   "source": [
    "from fitup import app\n",
    "\n",
    "if __name__ == '__main__':\n",
    "    from werkzeug.serving import run_simple\n",
    "    run_simple('localhost', 9010, app)"
   ]
  },
  {
   "cell_type": "code",
   "execution_count": 1,
   "metadata": {},
   "outputs": [],
   "source": [
    "from fitup import db"
   ]
  },
  {
   "cell_type": "code",
   "execution_count": 2,
   "metadata": {},
   "outputs": [],
   "source": [
    "db.create_all()"
   ]
  },
  {
   "cell_type": "code",
   "execution_count": null,
   "metadata": {},
   "outputs": [],
   "source": []
  }
 ],
 "metadata": {
  "kernelspec": {
   "display_name": "Python 3",
   "language": "python",
   "name": "python3"
  },
  "language_info": {
   "codemirror_mode": {
    "name": "ipython",
    "version": 3
   },
   "file_extension": ".py",
   "mimetype": "text/x-python",
   "name": "python",
   "nbconvert_exporter": "python",
   "pygments_lexer": "ipython3",
   "version": "3.7.0"
  }
 },
 "nbformat": 4,
 "nbformat_minor": 2
}

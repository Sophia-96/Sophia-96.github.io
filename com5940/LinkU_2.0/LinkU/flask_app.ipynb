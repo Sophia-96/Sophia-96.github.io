{
 "cells": [
  {
   "cell_type": "code",
   "execution_count": 1,
   "metadata": {},
   "outputs": [
    {
     "name": "stdout",
     "output_type": "stream",
     "text": [
      "Requirement already satisfied: flask-bcrypt in f:\\anaconda\\lib\\site-packages (0.7.1)\n",
      "Requirement already satisfied: Flask in f:\\anaconda\\lib\\site-packages (from flask-bcrypt) (0.12.2)\n",
      "Requirement already satisfied: bcrypt in f:\\anaconda\\lib\\site-packages (from flask-bcrypt) (3.1.7)\n",
      "Requirement already satisfied: Werkzeug>=0.7 in f:\\anaconda\\lib\\site-packages (from Flask->flask-bcrypt) (0.14.1)\n",
      "Requirement already satisfied: Jinja2>=2.4 in f:\\anaconda\\lib\\site-packages (from Flask->flask-bcrypt) (2.10)\n",
      "Requirement already satisfied: itsdangerous>=0.21 in f:\\anaconda\\lib\\site-packages (from Flask->flask-bcrypt) (0.24)\n",
      "Requirement already satisfied: click>=2.0 in f:\\anaconda\\lib\\site-packages (from Flask->flask-bcrypt) (6.7)\n",
      "Requirement already satisfied: cffi>=1.1 in f:\\anaconda\\lib\\site-packages (from bcrypt->flask-bcrypt) (1.11.4)\n",
      "Requirement already satisfied: six>=1.4.1 in f:\\anaconda\\lib\\site-packages (from bcrypt->flask-bcrypt) (1.11.0)\n",
      "Requirement already satisfied: MarkupSafe>=0.23 in f:\\anaconda\\lib\\site-packages (from Jinja2>=2.4->Flask->flask-bcrypt) (1.0)\n",
      "Requirement already satisfied: pycparser in f:\\anaconda\\lib\\site-packages (from cffi>=1.1->bcrypt->flask-bcrypt) (2.18)\n"
     ]
    }
   ],
   "source": [
    "!pip install flask-bcrypt"
   ]
  },
  {
   "cell_type": "code",
   "execution_count": 2,
   "metadata": {},
   "outputs": [
    {
     "name": "stdout",
     "output_type": "stream",
     "text": [
      "Requirement already satisfied: flask-sqlalchemy in f:\\anaconda\\lib\\site-packages (2.4.1)\n",
      "Requirement already satisfied: Flask>=0.10 in f:\\anaconda\\lib\\site-packages (from flask-sqlalchemy) (0.12.2)\n",
      "Requirement already satisfied: SQLAlchemy>=0.8.0 in f:\\anaconda\\lib\\site-packages (from flask-sqlalchemy) (1.2.1)\n",
      "Requirement already satisfied: Werkzeug>=0.7 in f:\\anaconda\\lib\\site-packages (from Flask>=0.10->flask-sqlalchemy) (0.14.1)\n",
      "Requirement already satisfied: Jinja2>=2.4 in f:\\anaconda\\lib\\site-packages (from Flask>=0.10->flask-sqlalchemy) (2.10)\n",
      "Requirement already satisfied: itsdangerous>=0.21 in f:\\anaconda\\lib\\site-packages (from Flask>=0.10->flask-sqlalchemy) (0.24)\n",
      "Requirement already satisfied: click>=2.0 in f:\\anaconda\\lib\\site-packages (from Flask>=0.10->flask-sqlalchemy) (6.7)\n",
      "Requirement already satisfied: MarkupSafe>=0.23 in f:\\anaconda\\lib\\site-packages (from Jinja2>=2.4->Flask>=0.10->flask-sqlalchemy) (1.0)\n"
     ]
    }
   ],
   "source": [
    "!pip install flask-sqlalchemy"
   ]
  },
  {
   "cell_type": "code",
   "execution_count": 1,
   "metadata": {},
   "outputs": [],
   "source": [
    "from linku import db"
   ]
  },
  {
   "cell_type": "code",
   "execution_count": 2,
   "metadata": {},
   "outputs": [],
   "source": [
    "db.create_all()"
   ]
  },
  {
   "cell_type": "code",
   "execution_count": null,
   "metadata": {},
   "outputs": [
    {
     "name": "stderr",
     "output_type": "stream",
     "text": [
      " * Running on http://localhost:9009/ (Press CTRL+C to quit)\n",
      "127.0.0.1 - - [06/Apr/2020 23:26:44] \"GET / HTTP/1.1\" 200 -\n",
      "127.0.0.1 - - [06/Apr/2020 23:26:44] \"GET /static/jquery/jquery2-0-3.js HTTP/1.1\" 304 -\n",
      "127.0.0.1 - - [06/Apr/2020 23:26:44] \"GET /static/bootstrap/bootstrap4-4-1.min.css HTTP/1.1\" 304 -\n",
      "127.0.0.1 - - [06/Apr/2020 23:26:44] \"GET /static/main.css HTTP/1.1\" 304 -\n",
      "127.0.0.1 - - [06/Apr/2020 23:26:45] \"GET /static/mycss.css HTTP/1.1\" 304 -\n",
      "127.0.0.1 - - [06/Apr/2020 23:26:45] \"GET /static/font-awesome/font-awesome4-3-0.min.css HTTP/1.1\" 304 -\n",
      "127.0.0.1 - - [06/Apr/2020 23:26:45] \"GET /static/bootstrap/bootstrap3-3-4.min.js HTTP/1.1\" 304 -\n",
      "127.0.0.1 - - [06/Apr/2020 23:26:45] \"GET /static/assets/icon/%E5%8A%A8%E6%80%811.png HTTP/1.1\" 304 -\n",
      "127.0.0.1 - - [06/Apr/2020 23:26:45] \"GET /static/assets/icon/%E6%9C%BA%E9%81%871.png HTTP/1.1\" 304 -\n",
      "127.0.0.1 - - [06/Apr/2020 23:26:46] \"GET /static/assets/icon/%E5%93%94%E5%93%941.png HTTP/1.1\" 304 -\n",
      "127.0.0.1 - - [06/Apr/2020 23:26:46] \"GET /static/assets/icon/%E6%88%911.png HTTP/1.1\" 304 -\n",
      "127.0.0.1 - - [06/Apr/2020 23:27:17] \"GET /favicon.ico HTTP/1.1\" 404 -\n",
      "127.0.0.1 - - [06/Apr/2020 23:28:15] \"GET /chance HTTP/1.1\" 200 -\n",
      "127.0.0.1 - - [06/Apr/2020 23:28:16] \"GET /static/bootstrap/bootstrap.min.css.map HTTP/1.1\" 304 -\n",
      "127.0.0.1 - - [06/Apr/2020 23:28:16] \"GET /static/css/pingendo.css HTTP/1.1\" 200 -\n",
      "127.0.0.1 - - [06/Apr/2020 23:28:16] \"GET /static/css/font-awesome4-3-0.min.css HTTP/1.1\" 304 -\n",
      "127.0.0.1 - - [06/Apr/2020 23:28:16] \"GET /static/css/mystyle.css HTTP/1.1\" 304 -\n",
      "127.0.0.1 - - [06/Apr/2020 23:28:17] \"GET /static/assets/icon/%E6%9C%BA%E9%81%872.png HTTP/1.1\" 200 -\n",
      "127.0.0.1 - - [06/Apr/2020 23:28:32] \"GET /bibi HTTP/1.1\" 200 -\n",
      "127.0.0.1 - - [06/Apr/2020 23:28:32] \"GET /static/profile_pics/23d06c386901eacc.jpg HTTP/1.1\" 304 -\n",
      "127.0.0.1 - - [06/Apr/2020 23:28:32] \"GET /static/assets/icon/%E5%93%94%E5%93%942.png HTTP/1.1\" 304 -\n"
     ]
    }
   ],
   "source": [
    "from linku import app\n",
    "\n",
    "if __name__ == '__main__':\n",
    "    from werkzeug.serving import run_simple\n",
    "    run_simple('localhost', 9009, app)"
   ]
  },
  {
   "cell_type": "code",
   "execution_count": null,
   "metadata": {},
   "outputs": [],
   "source": []
  }
 ],
 "metadata": {
  "kernelspec": {
   "display_name": "Python 3",
   "language": "python",
   "name": "python3"
  },
  "language_info": {
   "codemirror_mode": {
    "name": "ipython",
    "version": 3
   },
   "file_extension": ".py",
   "mimetype": "text/x-python",
   "name": "python",
   "nbconvert_exporter": "python",
   "pygments_lexer": "ipython3",
   "version": "3.6.9"
  }
 },
 "nbformat": 4,
 "nbformat_minor": 2
}

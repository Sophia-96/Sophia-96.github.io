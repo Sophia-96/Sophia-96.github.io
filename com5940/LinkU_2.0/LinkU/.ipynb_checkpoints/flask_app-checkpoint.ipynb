{
 "cells": [
  {
   "cell_type": "code",
   "execution_count": null,
   "metadata": {},
   "outputs": [
    {
     "name": "stderr",
     "output_type": "stream",
     "text": [
      " * Running on http://localhost:9010/ (Press CTRL+C to quit)\n",
      "127.0.0.1 - - [04/Apr/2020 11:51:12] \"GET / HTTP/1.1\" 200 -\n",
      "127.0.0.1 - - [04/Apr/2020 11:51:15] \"GET /chance HTTP/1.1\" 200 -\n",
      "127.0.0.1 - - [04/Apr/2020 11:51:15] \"GET /static/css/font-awesome4-3-0.min.css HTTP/1.1\" 404 -\n",
      "127.0.0.1 - - [04/Apr/2020 11:51:21] \"GET /detail/1 HTTP/1.1\" 200 -\n",
      "127.0.0.1 - - [04/Apr/2020 11:51:21] \"GET /static/css/font-awesome4-3-0.min.css HTTP/1.1\" 404 -\n",
      "127.0.0.1 - - [04/Apr/2020 11:51:25] \"GET /static/css/font-awesome4-3-0.min.css HTTP/1.1\" 404 -\n",
      "127.0.0.1 - - [04/Apr/2020 11:51:26] \"GET /static/bootstrap/bootstrap.min.css.map HTTP/1.1\" 404 -\n",
      "127.0.0.1 - - [04/Apr/2020 11:55:23] \"GET /static/bootstrap/bootstrap.min.css.map HTTP/1.1\" 404 -\n",
      "127.0.0.1 - - [04/Apr/2020 11:55:45] \"GET /chance HTTP/1.1\" 200 -\n",
      "127.0.0.1 - - [04/Apr/2020 11:55:45] \"GET /static/bootstrap/bootstrap.min.css.map HTTP/1.1\" 404 -\n",
      "127.0.0.1 - - [04/Apr/2020 11:55:49] \"GET /me HTTP/1.1\" 200 -\n",
      "127.0.0.1 - - [04/Apr/2020 11:55:50] \"GET /static/bootstrap/bootstrap.min.css.map HTTP/1.1\" 404 -\n",
      "127.0.0.1 - - [04/Apr/2020 11:56:04] \"GET /chance HTTP/1.1\" 200 -\n",
      "127.0.0.1 - - [04/Apr/2020 11:56:04] \"GET /static/css/font-awesome4-3-0.min.css HTTP/1.1\" 404 -\n",
      "127.0.0.1 - - [04/Apr/2020 11:56:04] \"GET /static/bootstrap/bootstrap.min.css.map HTTP/1.1\" 404 -\n",
      "127.0.0.1 - - [04/Apr/2020 11:56:12] \"GET /detail/1 HTTP/1.1\" 200 -\n",
      "127.0.0.1 - - [04/Apr/2020 11:56:12] \"GET /static/css/font-awesome4-3-0.min.css HTTP/1.1\" 404 -\n",
      "127.0.0.1 - - [04/Apr/2020 11:56:13] \"GET /static/bootstrap/bootstrap.min.css.map HTTP/1.1\" 404 -\n",
      "127.0.0.1 - - [04/Apr/2020 11:57:22] \"GET /chance HTTP/1.1\" 200 -\n",
      "127.0.0.1 - - [04/Apr/2020 11:57:23] \"GET /static/bootstrap/bootstrap.min.css.map HTTP/1.1\" 404 -\n",
      "127.0.0.1 - - [04/Apr/2020 11:57:26] \"GET /me HTTP/1.1\" 200 -\n",
      "127.0.0.1 - - [04/Apr/2020 11:57:27] \"GET /static/bootstrap/bootstrap.min.css.map HTTP/1.1\" 404 -\n"
     ]
    }
   ],
   "source": [
    "from linku import app\n",
    "\n",
    "if __name__ == '__main__':\n",
    "    from werkzeug.serving import run_simple\n",
    "    run_simple('localhost', 9010, app)"
   ]
  },
  {
   "cell_type": "code",
   "execution_count": null,
   "metadata": {},
   "outputs": [],
   "source": [
    "!pip install flask-bcrypt"
   ]
  },
  {
   "cell_type": "code",
   "execution_count": 1,
   "metadata": {},
   "outputs": [
    {
     "ename": "ModuleNotFoundError",
     "evalue": "No module named 'flask_bcrypt'",
     "output_type": "error",
     "traceback": [
      "\u001b[1;31m---------------------------------------------------------------------------\u001b[0m",
      "\u001b[1;31mModuleNotFoundError\u001b[0m                       Traceback (most recent call last)",
      "\u001b[1;32m<ipython-input-1-c7cb786b0168>\u001b[0m in \u001b[0;36m<module>\u001b[1;34m()\u001b[0m\n\u001b[1;32m----> 1\u001b[1;33m \u001b[1;32mfrom\u001b[0m \u001b[0mlinku\u001b[0m \u001b[1;32mimport\u001b[0m \u001b[0mdb\u001b[0m\u001b[1;33m\u001b[0m\u001b[1;33m\u001b[0m\u001b[0m\n\u001b[0m",
      "\u001b[1;32m~\\Python workshop\\LinkU_2.0\\LinkU\\linku\\__init__.py\u001b[0m in \u001b[0;36m<module>\u001b[1;34m()\u001b[0m\n\u001b[0;32m      2\u001b[0m \u001b[1;32mfrom\u001b[0m \u001b[0mflask\u001b[0m \u001b[1;32mimport\u001b[0m \u001b[0mFlask\u001b[0m\u001b[1;33m\u001b[0m\u001b[1;33m\u001b[0m\u001b[0m\n\u001b[0;32m      3\u001b[0m \u001b[1;32mfrom\u001b[0m \u001b[0mflask_sqlalchemy\u001b[0m \u001b[1;32mimport\u001b[0m \u001b[0mSQLAlchemy\u001b[0m\u001b[1;33m\u001b[0m\u001b[1;33m\u001b[0m\u001b[0m\n\u001b[1;32m----> 4\u001b[1;33m \u001b[1;32mfrom\u001b[0m \u001b[0mflask_bcrypt\u001b[0m \u001b[1;32mimport\u001b[0m \u001b[0mBcrypt\u001b[0m\u001b[1;33m\u001b[0m\u001b[1;33m\u001b[0m\u001b[0m\n\u001b[0m\u001b[0;32m      5\u001b[0m \u001b[1;32mfrom\u001b[0m \u001b[0mflask_login\u001b[0m \u001b[1;32mimport\u001b[0m \u001b[0mLoginManager\u001b[0m\u001b[1;33m\u001b[0m\u001b[1;33m\u001b[0m\u001b[0m\n\u001b[0;32m      6\u001b[0m \u001b[1;32mfrom\u001b[0m \u001b[0mflask_mail\u001b[0m \u001b[1;32mimport\u001b[0m \u001b[0mMail\u001b[0m\u001b[1;33m\u001b[0m\u001b[1;33m\u001b[0m\u001b[0m\n",
      "\u001b[1;31mModuleNotFoundError\u001b[0m: No module named 'flask_bcrypt'"
     ]
    }
   ],
   "source": [
    "from linku import db"
   ]
  },
  {
   "cell_type": "code",
   "execution_count": 2,
   "metadata": {},
   "outputs": [],
   "source": [
    "db.create_all()"
   ]
  },
  {
   "cell_type": "code",
   "execution_count": null,
   "metadata": {},
   "outputs": [],
   "source": []
  }
 ],
 "metadata": {
  "kernelspec": {
   "display_name": "Python 3",
   "language": "python",
   "name": "python3"
  },
  "language_info": {
   "codemirror_mode": {
    "name": "ipython",
    "version": 3
   },
   "file_extension": ".py",
   "mimetype": "text/x-python",
   "name": "python",
   "nbconvert_exporter": "python",
   "pygments_lexer": "ipython3",
   "version": "3.6.9"
  }
 },
 "nbformat": 4,
 "nbformat_minor": 2
}

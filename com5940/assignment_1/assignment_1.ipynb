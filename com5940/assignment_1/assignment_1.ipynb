{
 "cells": [
  {
   "cell_type": "code",
   "execution_count": 24,
   "metadata": {},
   "outputs": [
    {
     "name": "stdout",
     "output_type": "stream",
     "text": [
      "Requirement already satisfied: PyMySQL in f:\\anaconda\\lib\\site-packages\n"
     ]
    },
    {
     "name": "stderr",
     "output_type": "stream",
     "text": [
      "You are using pip version 9.0.1, however version 20.0.2 is available.\n",
      "You should consider upgrading via the 'python -m pip install --upgrade pip' command.\n"
     ]
    }
   ],
   "source": [
    "!pip install PyMySQL"
   ]
  },
  {
   "cell_type": "code",
   "execution_count": 25,
   "metadata": {},
   "outputs": [
    {
     "name": "stdout",
     "output_type": "stream",
     "text": [
      "Requirement already satisfied: requests in f:\\anaconda\\lib\\site-packages\n",
      "Requirement already satisfied: chardet<3.1.0,>=3.0.2 in f:\\anaconda\\lib\\site-packages (from requests)\n",
      "Requirement already satisfied: idna<2.7,>=2.5 in f:\\anaconda\\lib\\site-packages (from requests)\n",
      "Requirement already satisfied: urllib3<1.23,>=1.21.1 in f:\\anaconda\\lib\\site-packages (from requests)\n",
      "Requirement already satisfied: certifi>=2017.4.17 in f:\\anaconda\\lib\\site-packages (from requests)\n"
     ]
    },
    {
     "name": "stderr",
     "output_type": "stream",
     "text": [
      "You are using pip version 9.0.1, however version 20.0.2 is available.\n",
      "You should consider upgrading via the 'python -m pip install --upgrade pip' command.\n"
     ]
    }
   ],
   "source": [
    "!pip install requests"
   ]
  },
  {
   "cell_type": "markdown",
   "metadata": {},
   "source": [
    "<h3>Retrieve data from the MySQL tables to be displayed as output in the notebook</h3><br>"
   ]
  },
  {
   "cell_type": "code",
   "execution_count": 26,
   "metadata": {},
   "outputs": [],
   "source": [
    "import pymysql.cursors\n",
    "connection = pymysql.connect(host=\"localhost\",\n",
    "                     user=\"root\",\n",
    "                     passwd=\"root\",\n",
    "                     db=\"assignment_1\",\n",
    "                     charset='utf8mb4',\n",
    "                     cursorclass=pymysql.cursors.DictCursor)"
   ]
  },
  {
   "cell_type": "code",
   "execution_count": 36,
   "metadata": {},
   "outputs": [
    {
     "name": "stdout",
     "output_type": "stream",
     "text": [
      "\n",
      "\n",
      "[{'Ranking': 1, 'Name': 'Nathan CHEN', 'Nat': 'US', 'SP': Decimal('107.40'), 'FS': Decimal('216.02'), 'Total': Decimal('323.42')}, {'Ranking': 2, 'Name': 'Yuzuru HANYU', 'Nat': 'JP', 'SP': Decimal('94.87'), 'FS': Decimal('206.10'), 'Total': Decimal('300.97')}, {'Ranking': 3, 'Name': 'Vincent ZHOU', 'Nat': 'US', 'SP': Decimal('94.17'), 'FS': Decimal('186.99'), 'Total': Decimal('281.16')}, {'Ranking': 4, 'Name': 'Shoma UNO', 'Nat': 'JP', 'SP': Decimal('91.40'), 'FS': Decimal('178.92'), 'Total': Decimal('270.32')}, {'Ranking': 5, 'Name': 'Boyang JIN', 'Nat': 'CN', 'SP': Decimal('84.26'), 'FS': Decimal('178.45'), 'Total': Decimal('262.71')}, {'Ranking': 6, 'Name': 'Mikhail KOLYADA', 'Nat': 'RU', 'SP': Decimal('84.23'), 'FS': Decimal('178.21'), 'Total': Decimal('262.44')}, {'Ranking': 7, 'Name': 'Matteo RIZZO', 'Nat': 'IT', 'SP': Decimal('93.37'), 'FS': Decimal('164.29'), 'Total': Decimal('257.66')}, {'Ranking': 8, 'Name': 'Michal BREZINA', 'Nat': 'CZ', 'SP': Decimal('86.96'), 'FS': Decimal('167.32'), 'Total': Decimal('254.28')}, {'Ranking': 9, 'Name': 'Jason BROWN', 'Nat': 'US', 'SP': Decimal('96.81'), 'FS': Decimal('157.34'), 'Total': Decimal('254.15')}, {'Ranking': 10, 'Name': 'Andrei LAZUKIN', 'Nat': 'RU', 'SP': Decimal('84.05'), 'FS': Decimal('164.69'), 'Total': Decimal('248.74')}]\n",
      "\n",
      "\n"
     ]
    }
   ],
   "source": [
    "with connection.cursor() as cursor:\n",
    "        sql = \"SELECT * FROM men_table\"\n",
    "        cursor.execute(sql)\n",
    "        result = cursor.fetchall()\n",
    "        dataset = []\n",
    "        temp = {}\n",
    "        i = 0\n",
    "        for row in result:\n",
    "            temp[i] = row\n",
    "            dataset.append(temp[i])\n",
    "            i = i + 1\n",
    "        print('\\n')\n",
    "        print(dataset)\n",
    "        print('\\n')"
   ]
  },
  {
   "cell_type": "code",
   "execution_count": 37,
   "metadata": {},
   "outputs": [
    {
     "name": "stdout",
     "output_type": "stream",
     "text": [
      "\n",
      "\n",
      "[{'Ranking': 1, 'Name': 'Alina ZAGITOVA', 'Nat': 'RU', 'SP': Decimal('82.08'), 'FS': Decimal('155.42'), 'Total': Decimal('237.50')}, {'Ranking': 2, 'Name': 'Elizabet TURSYNBAEVA', 'Nat': 'KZ', 'SP': Decimal('75.96'), 'FS': Decimal('148.80'), 'Total': Decimal('224.76')}, {'Ranking': 3, 'Name': 'Evgenia MEDVEDEVA', 'Nat': 'RU', 'SP': Decimal('74.23'), 'FS': Decimal('149.57'), 'Total': Decimal('223.80')}, {'Ranking': 4, 'Name': 'Rika KIHIRA', 'Nat': 'JP', 'SP': Decimal('70.90'), 'FS': Decimal('152.59'), 'Total': Decimal('223.49')}, {'Ranking': 5, 'Name': 'Kaori SAKAMOTO', 'Nat': 'JP', 'SP': Decimal('76.86'), 'FS': Decimal('145.97'), 'Total': Decimal('222.83')}, {'Ranking': 6, 'Name': 'Satoko MIYAHARA', 'Nat': 'JP', 'SP': Decimal('70.60'), 'FS': Decimal('145.35'), 'Total': Decimal('215.95')}, {'Ranking': 7, 'Name': 'Bradie TENNELL', 'Nat': 'US', 'SP': Decimal('69.50'), 'FS': Decimal('143.97'), 'Total': Decimal('213.47')}, {'Ranking': 8, 'Name': 'Sofia SAMODUROVA', 'Nat': 'RU', 'SP': Decimal('70.42'), 'FS': Decimal('138.16'), 'Total': Decimal('208.58')}, {'Ranking': 9, 'Name': 'Mariah BELL', 'Nat': 'US', 'SP': Decimal('71.26'), 'FS': Decimal('136.81'), 'Total': Decimal('208.07')}, {'Ranking': 10, 'Name': 'Eunsoo LIM', 'Nat': 'KR', 'SP': Decimal('72.91'), 'FS': Decimal('132.66'), 'Total': Decimal('205.57')}]\n",
      "\n",
      "\n"
     ]
    }
   ],
   "source": [
    "with connection.cursor() as cursor:\n",
    "        sql = \"SELECT * FROM ladies_table\"\n",
    "        cursor.execute(sql)\n",
    "        result = cursor.fetchall()\n",
    "        dataset = []\n",
    "        temp = {}\n",
    "        i = 0\n",
    "        for row in result:\n",
    "            temp[i] = row\n",
    "            dataset.append(temp[i])\n",
    "            i = i + 1\n",
    "        print('\\n')\n",
    "        print(dataset)\n",
    "        print('\\n')"
   ]
  },
  {
   "cell_type": "code",
   "execution_count": 38,
   "metadata": {},
   "outputs": [
    {
     "name": "stdout",
     "output_type": "stream",
     "text": [
      "\n",
      "\n",
      "[{'Ranking': 1, 'Name': 'Wenjing SUI / Cong HAN', 'Nat': 'CN', 'SP': Decimal('79.24'), 'FS': Decimal('155.60'), 'Total': Decimal('234.84')}, {'Ranking': 2, 'Name': 'Evgenia TARASOVA / Vladimir MOROZOV', 'Nat': 'RU', 'SP': Decimal('81.21'), 'FS': Decimal('147.26'), 'Total': Decimal('228.47')}, {'Ranking': 3, 'Name': 'Natalia ZABIIAKO / Alexander ENBERT', 'Nat': 'RU', 'SP': Decimal('73.96'), 'FS': Decimal('144.02'), 'Total': Decimal('217.98')}, {'Ranking': 4, 'Name': 'Cheng PENG / Yang JIN', 'Nat': 'CN', 'SP': Decimal('75.51'), 'FS': Decimal('140.33'), 'Total': Decimal('215.84')}, {'Ranking': 5, 'Name': 'Vanessa JAMES / Morgan CIPRES', 'Nat': 'FR', 'SP': Decimal('68.67'), 'FS': Decimal('146.52'), 'Total': Decimal('215.19')}, {'Ranking': 6, 'Name': 'Aleksandra BOIKOVA / Dmitrii KOZLOVSKII', 'Nat': 'RU', 'SP': Decimal('69.99'), 'FS': Decimal('140.31'), 'Total': Decimal('210.30')}, {'Ranking': 7, 'Name': 'Kirsten MOORE-TOWERS / Michael MARINARO', 'Nat': 'CA', 'SP': Decimal('73.08'), 'FS': Decimal('126.94'), 'Total': Decimal('200.02')}, {'Ranking': 8, 'Name': 'Nicole DELLA MONICA / Matteo GUARISE', 'Nat': 'IT', 'SP': Decimal('67.29'), 'FS': Decimal('128.45'), 'Total': Decimal('195.74')}, {'Ranking': 9, 'Name': 'Ashley CAIN / Timothy LEDUC', 'Nat': 'US', 'SP': Decimal('66.93'), 'FS': Decimal('126.88'), 'Total': Decimal('193.81')}, {'Ranking': 10, 'Name': 'Miriam ZIEGLER / Severin KIEFER', 'Nat': 'AT', 'SP': Decimal('63.65'), 'FS': Decimal('115.01'), 'Total': Decimal('178.66')}]\n",
      "\n",
      "\n"
     ]
    }
   ],
   "source": [
    "with connection.cursor() as cursor:\n",
    "        sql = \"SELECT * FROM pairs_table\"\n",
    "        cursor.execute(sql)\n",
    "        result = cursor.fetchall()\n",
    "        dataset = []\n",
    "        temp = {}\n",
    "        i = 0\n",
    "        for row in result:\n",
    "            temp[i] = row\n",
    "            dataset.append(temp[i])\n",
    "            i = i + 1\n",
    "        print('\\n')\n",
    "        print(dataset)\n",
    "        print('\\n')"
   ]
  },
  {
   "cell_type": "code",
   "execution_count": 39,
   "metadata": {},
   "outputs": [
    {
     "name": "stdout",
     "output_type": "stream",
     "text": [
      "\n",
      "\n",
      "[{'Ranking': 1, 'Name': 'Gabriella PAPADAKIS / Guillaume CIZERON', 'Nat': 'FR', 'SP': Decimal('88.42'), 'FS': Decimal('134.23'), 'Total': Decimal('222.65')}, {'Ranking': 2, 'Name': 'Victoria SINITSINA / Nikita KATSALAPOV', 'Nat': 'RU', 'SP': Decimal('83.94'), 'FS': Decimal('127.82'), 'Total': Decimal('211.76')}, {'Ranking': 3, 'Name': 'Madison HUBBELL / Zachary DONOHUE', 'Nat': 'US', 'SP': Decimal('83.09'), 'FS': Decimal('127.31'), 'Total': Decimal('210.40')}, {'Ranking': 4, 'Name': 'Alexandra STEPANOVA / Ivan BUKIN', 'Nat': 'RU', 'SP': Decimal('83.10'), 'FS': Decimal('125.42'), 'Total': Decimal('208.52')}, {'Ranking': 5, 'Name': 'Kaitlyn WEAVER / Andrew POJE', 'Nat': 'CA', 'SP': Decimal('82.84'), 'FS': Decimal('122.78'), 'Total': Decimal('205.62')}, {'Ranking': 6, 'Name': 'Madison CHOCK / Evan BATES', 'Nat': 'US', 'SP': Decimal('82.32'), 'FS': Decimal('122.60'), 'Total': Decimal('204.92')}, {'Ranking': 7, 'Name': 'Piper GILLES / Paul POIRIER', 'Nat': 'CA', 'SP': Decimal('80.44'), 'FS': Decimal('120.48'), 'Total': Decimal('200.92')}, {'Ranking': 8, 'Name': 'Charlene GUIGNARD / Marco FABBRI', 'Nat': 'IT', 'SP': Decimal('81.66'), 'FS': Decimal('117.52'), 'Total': Decimal('199.18')}, {'Ranking': 9, 'Name': 'Kaitlin HAWAYEK / Jean-Luc BAKER', 'Nat': 'US', 'SP': Decimal('75.90'), 'FS': Decimal('113.16'), 'Total': Decimal('189.06')}, {'Ranking': 10, 'Name': 'Laurence FOURNIER BEAUDRY / Nikolaj SORENSEN', 'Nat': 'CA', 'SP': Decimal('74.76'), 'FS': Decimal('113.34'), 'Total': Decimal('188.10')}]\n",
      "\n",
      "\n"
     ]
    }
   ],
   "source": [
    "with connection.cursor() as cursor:\n",
    "        sql = \"SELECT * FROM dance_table\"\n",
    "        cursor.execute(sql)\n",
    "        result = cursor.fetchall()\n",
    "        dataset = []\n",
    "        temp = {}\n",
    "        i = 0\n",
    "        for row in result:\n",
    "            temp[i] = row\n",
    "            dataset.append(temp[i])\n",
    "            i = i + 1\n",
    "        print('\\n')\n",
    "        print(dataset)\n",
    "        print('\\n')"
   ]
  },
  {
   "cell_type": "markdown",
   "metadata": {},
   "source": [
    "<h3>Retrieve data from Airtable API to be displayed as output in the notebook</h3>\n",
    "<p><i>The names of the atheletes are displayed as well</p><br>"
   ]
  },
  {
   "cell_type": "code",
   "execution_count": 33,
   "metadata": {},
   "outputs": [
    {
     "name": "stdout",
     "output_type": "stream",
     "text": [
      "[{'Ranking': '1', 'Name': 'Nathan CHEN', 'Nat': 'US', 'SP': '107.4', 'FS': '216.02', 'Total': '323.42'}, {'Ranking': '2', 'Name': 'Yuzuru HANYU', 'Nat': 'JP', 'SP': '94.87', 'FS': '206.1', 'Total': '300.97'}, {'Ranking': '3', 'Name': 'Vincent ZHOU', 'Nat': 'US', 'SP': '94.17', 'FS': '186.99', 'Total': '281.16'}, {'Ranking': '4', 'Name': 'Shoma UNO', 'Nat': 'JP', 'SP': '91.4', 'FS': '178.92', 'Total': '270.32'}, {'Ranking': '5', 'Name': 'Boyang JIN', 'Nat': 'CN', 'SP': '84.26', 'FS': '178.45', 'Total': '262.71'}, {'Ranking': '6', 'Name': 'Mikhail KOLYADA', 'Nat': 'RU', 'SP': '84.23', 'FS': '178.21', 'Total': '262.44'}, {'Ranking': '7', 'Name': 'Matteo RIZZO', 'Nat': 'IT', 'SP': '93.37', 'FS': '164.29', 'Total': '257.66'}, {'Ranking': '8', 'Name': 'Michal BREZINA', 'Nat': 'CZ', 'SP': '86.96', 'FS': '167.32', 'Total': '254.28'}, {'Ranking': '9', 'Name': 'Jason BROWN', 'Nat': 'US', 'SP': '96.81', 'FS': '157.34', 'Total': '254.15'}, {'Ranking': '10', 'Name': 'Andrei LAZUKIN', 'Nat': 'RU', 'SP': '84.05', 'FS': '164.69', 'Total': '248.74'}]\n",
      "\n",
      "\n",
      "['Nathan CHEN', 'Yuzuru HANYU', 'Vincent ZHOU', 'Shoma UNO', 'Boyang JIN', 'Mikhail KOLYADA', 'Matteo RIZZO', 'Michal BREZINA', 'Jason BROWN', 'Andrei LAZUKIN']\n"
     ]
    }
   ],
   "source": [
    "import requests\n",
    "\n",
    "headers = {\n",
    "'Authorization': 'Bearer keygwX4DioRe1fgA2',\n",
    "}\n",
    "\n",
    "params = (\n",
    "('view', 'Grid view'),\n",
    ")\n",
    "\n",
    "r = requests.get('https://api.airtable.com/v0/appf7F9NpRayj9U94/Men?api_key=keygwX4DioRe1fgA2', headers=headers, params=params)\n",
    "dict = r.json()\n",
    "dataset = []\n",
    "Ranking = []\n",
    "Name = []\n",
    "Nat = []\n",
    "SP = []\n",
    "FS = []\n",
    "Total = []\n",
    "for i in dict['records']:\n",
    "     dict = i['fields']\n",
    "     dataset.append(dict)\n",
    "print(dataset)\n",
    "print('\\n')\n",
    "for dicts in dataset:\n",
    "    Ranking.append(dicts.get('Ranking'))\n",
    "    Name.append(dicts.get('Name'))\n",
    "    Nat.append(dicts.get('Nat'))\n",
    "    SP.append(dicts.get('SP'))\n",
    "    FS.append(dicts.get('FS'))\n",
    "    Total.append(dicts.get('Total'))\n",
    "\n",
    "print(Name)"
   ]
  },
  {
   "cell_type": "code",
   "execution_count": 32,
   "metadata": {},
   "outputs": [
    {
     "name": "stdout",
     "output_type": "stream",
     "text": [
      "[{'Ranking': '1', 'Name': 'Alina ZAGITOVA', 'Nat': 'RU', 'SP': '82.08', 'FS': '155.42', 'Total': '237.5'}, {'Ranking': '2', 'Name': 'Elizabet TURSYNBAEVA', 'Nat': 'KZ', 'SP': '75.96', 'FS': '148.8', 'Total': '224.76'}, {'Ranking': '3', 'Name': 'Evgenia MEDVEDEVA', 'Nat': 'RU', 'SP': '74.23', 'FS': '149.57', 'Total': '223.8'}, {'Ranking': '4', 'Name': 'Rika KIHIRA', 'Nat': 'JP', 'SP': '70.9', 'FS': '152.59', 'Total': '223.49'}, {'Ranking': '5', 'Name': 'Kaori SAKAMOTO', 'Nat': 'JP', 'SP': '76.86', 'FS': '145.97', 'Total': '222.83'}, {'Ranking': '6', 'Name': 'Satoko MIYAHARA', 'Nat': 'JP', 'SP': '70.6', 'FS': '145.35', 'Total': '215.95'}, {'Ranking': '7', 'Name': 'Bradie TENNELL', 'Nat': 'US', 'SP': '69.5', 'FS': '143.97', 'Total': '213.47'}, {'Ranking': '8', 'Name': 'Sofia SAMODUROVA', 'Nat': 'RU', 'SP': '70.42', 'FS': '138.16', 'Total': '208.58'}, {'Ranking': '9', 'Name': 'Mariah BELL', 'Nat': 'US', 'SP': '71.26', 'FS': '136.81', 'Total': '208.07'}, {'Ranking': '10', 'Name': 'Eunsoo LIM', 'Nat': 'KR', 'SP': '72.91', 'FS': '132.66', 'Total': '205.57'}]\n",
      "\n",
      "\n",
      "['Alina ZAGITOVA', 'Elizabet TURSYNBAEVA', 'Evgenia MEDVEDEVA', 'Rika KIHIRA', 'Kaori SAKAMOTO', 'Satoko MIYAHARA', 'Bradie TENNELL', 'Sofia SAMODUROVA', 'Mariah BELL', 'Eunsoo LIM']\n"
     ]
    }
   ],
   "source": [
    "import requests\n",
    "\n",
    "headers = {\n",
    "'Authorization': 'Bearer keygwX4DioRe1fgA2',\n",
    "}\n",
    "\n",
    "params = (\n",
    "('view', 'Grid view'),\n",
    ")\n",
    "\n",
    "r = requests.get('https://api.airtable.com/v0/appf7F9NpRayj9U94/Ladies?api_key=keygwX4DioRe1fgA2', headers=headers, params=params)\n",
    "dict = r.json()\n",
    "dataset = []\n",
    "Ranking = []\n",
    "Name = []\n",
    "Nat = []\n",
    "SP = []\n",
    "FS = []\n",
    "Total = []\n",
    "for i in dict['records']:\n",
    "     dict = i['fields']\n",
    "     dataset.append(dict)\n",
    "print(dataset)\n",
    "print('\\n')\n",
    "for dicts in dataset:\n",
    "    Ranking.append(dicts.get('Ranking'))\n",
    "    Name.append(dicts.get('Name'))\n",
    "    Nat.append(dicts.get('Nat'))\n",
    "    SP.append(dicts.get('SP'))\n",
    "    FS.append(dicts.get('FS'))\n",
    "    Total.append(dicts.get('Total'))\n",
    "    \n",
    "print(Name)"
   ]
  },
  {
   "cell_type": "code",
   "execution_count": 34,
   "metadata": {},
   "outputs": [
    {
     "name": "stdout",
     "output_type": "stream",
     "text": [
      "[{'Ranking': '1', 'Name': 'Wenjing SUI / Cong HAN', 'Nat': 'CN', 'SP': '79.24', 'FS': '155.6', 'Total': '234.84'}, {'Ranking': '2', 'Name': 'Evgenia TARASOVA / Vladimir MOROZOV', 'Nat': 'RU', 'SP': '81.21', 'FS': '147.26', 'Total': '228.47'}, {'Ranking': '3', 'Name': 'Natalia ZABIIAKO / Alexander ENBERT', 'Nat': 'RU', 'SP': '73.96', 'FS': '144.02', 'Total': '217.98'}, {'Ranking': '4', 'Name': 'Cheng PENG / Yang JIN', 'Nat': 'CN', 'SP': '75.51', 'FS': '140.33', 'Total': '215.84'}, {'Ranking': '5', 'Name': 'Vanessa JAMES / Morgan CIPRES', 'Nat': 'FR', 'SP': '68.67', 'FS': '146.52', 'Total': '215.19'}, {'Ranking': '6', 'Name': 'Aleksandra BOIKOVA / Dmitrii KOZLOVSKII', 'Nat': 'RU', 'SP': '69.99', 'FS': '140.31', 'Total': '210.3'}, {'Ranking': '7', 'Name': 'Kirsten MOORE-TOWERS / Michael MARINARO', 'Nat': 'CA', 'SP': '73.08', 'FS': '126.94', 'Total': '200.02'}, {'Ranking': '8', 'Name': 'Nicole DELLA MONICA / Matteo GUARISE', 'Nat': 'IT', 'SP': '67.29', 'FS': '128.45', 'Total': '195.74'}, {'Ranking': '9', 'Name': 'Ashley CAIN / Timothy LEDUC', 'Nat': 'US', 'SP': '66.93', 'FS': '126.88', 'Total': '193.81'}, {'Ranking': '10', 'Name': 'Miriam ZIEGLER / Severin KIEFER', 'Nat': 'AT', 'SP': '63.65', 'FS': '115.01', 'Total': '178.66'}]\n",
      "\n",
      "\n",
      "['Wenjing SUI / Cong HAN', 'Evgenia TARASOVA / Vladimir MOROZOV', 'Natalia ZABIIAKO / Alexander ENBERT', 'Cheng PENG / Yang JIN', 'Vanessa JAMES / Morgan CIPRES', 'Aleksandra BOIKOVA / Dmitrii KOZLOVSKII', 'Kirsten MOORE-TOWERS / Michael MARINARO', 'Nicole DELLA MONICA / Matteo GUARISE', 'Ashley CAIN / Timothy LEDUC', 'Miriam ZIEGLER / Severin KIEFER']\n"
     ]
    }
   ],
   "source": [
    "import requests\n",
    "\n",
    "headers = {\n",
    "'Authorization': 'Bearer keygwX4DioRe1fgA2',\n",
    "}\n",
    "\n",
    "params = (\n",
    "('view', 'Grid view'),\n",
    ")\n",
    "\n",
    "r = requests.get('https://api.airtable.com/v0/appf7F9NpRayj9U94/Pairs?api_key=keygwX4DioRe1fgA2', headers=headers, params=params)\n",
    "dict = r.json()\n",
    "dataset = []\n",
    "Ranking = []\n",
    "Name = []\n",
    "Nat = []\n",
    "SP = []\n",
    "FS = []\n",
    "Total = []\n",
    "for i in dict['records']:\n",
    "     dict = i['fields']\n",
    "     dataset.append(dict)\n",
    "print(dataset)\n",
    "print('\\n')\n",
    "for dicts in dataset:\n",
    "    Ranking.append(dicts.get('Ranking'))\n",
    "    Name.append(dicts.get('Name'))\n",
    "    Nat.append(dicts.get('Nat'))\n",
    "    SP.append(dicts.get('SP'))\n",
    "    FS.append(dicts.get('FS'))\n",
    "    Total.append(dicts.get('Total'))\n",
    "\n",
    "print(Name)"
   ]
  },
  {
   "cell_type": "code",
   "execution_count": 35,
   "metadata": {},
   "outputs": [
    {
     "name": "stdout",
     "output_type": "stream",
     "text": [
      "[{'Ranking': '1', 'Name': 'Gabriella PAPADAKIS / Guillaume CIZERON', 'Nat': 'FR', 'SP': '88.42', 'FS': '134.23', 'Total': '222.65'}, {'Ranking': '2', 'Name': 'Victoria SINITSINA / Nikita KATSALAPOV', 'Nat': 'RU', 'SP': '83.94', 'FS': '127.82', 'Total': '211.76'}, {'Ranking': '3', 'Name': 'Madison HUBBELL / Zachary DONOHUE', 'Nat': 'US', 'SP': '83.09', 'FS': '127.31', 'Total': '210.4'}, {'Ranking': '4', 'Name': 'Alexandra STEPANOVA / Ivan BUKIN', 'Nat': 'RU', 'SP': '83.1', 'FS': '125.42', 'Total': '208.52'}, {'Ranking': '5', 'Name': 'Kaitlyn WEAVER / Andrew POJE', 'Nat': 'CA', 'SP': '82.84', 'FS': '122.78', 'Total': '205.62'}, {'Ranking': '6', 'Name': 'Madison CHOCK / Evan BATES', 'Nat': 'US', 'SP': '82.32', 'FS': '122.6', 'Total': '204.92'}, {'Ranking': '7', 'Name': 'Piper GILLES / Paul POIRIER', 'Nat': 'CA', 'SP': '80.44', 'FS': '120.48', 'Total': '200.92'}, {'Ranking': '8', 'Name': 'Charlene GUIGNARD / Marco FABBRI', 'Nat': 'IT', 'SP': '81.66', 'FS': '117.52', 'Total': '199.18'}, {'Ranking': '9', 'Name': 'Kaitlin HAWAYEK / Jean-Luc BAKER', 'Nat': 'US', 'SP': '75.9', 'FS': '113.16', 'Total': '189.06'}, {'Ranking': '10', 'Name': 'Laurence FOURNIER BEAUDRY / Nikolaj SORENSEN', 'Nat': 'CA', 'SP': '74.76', 'FS': '113.34', 'Total': '188.1'}]\n",
      "\n",
      "\n",
      "['Gabriella PAPADAKIS / Guillaume CIZERON', 'Victoria SINITSINA / Nikita KATSALAPOV', 'Madison HUBBELL / Zachary DONOHUE', 'Alexandra STEPANOVA / Ivan BUKIN', 'Kaitlyn WEAVER / Andrew POJE', 'Madison CHOCK / Evan BATES', 'Piper GILLES / Paul POIRIER', 'Charlene GUIGNARD / Marco FABBRI', 'Kaitlin HAWAYEK / Jean-Luc BAKER', 'Laurence FOURNIER BEAUDRY / Nikolaj SORENSEN']\n"
     ]
    }
   ],
   "source": [
    "import requests\n",
    "\n",
    "headers = {\n",
    "'Authorization': 'Bearer keygwX4DioRe1fgA2',\n",
    "}\n",
    "\n",
    "params = (\n",
    "('view', 'Grid view'),\n",
    ")\n",
    "\n",
    "r = requests.get('https://api.airtable.com/v0/appf7F9NpRayj9U94/Dance?api_key=keygwX4DioRe1fgA2', headers=headers, params=params)\n",
    "dict = r.json()\n",
    "dataset = []\n",
    "Ranking = []\n",
    "Name = []\n",
    "Nat = []\n",
    "SP = []\n",
    "FS = []\n",
    "Total = []\n",
    "for i in dict['records']:\n",
    "     dict = i['fields']\n",
    "     dataset.append(dict)\n",
    "print(dataset)\n",
    "print('\\n')\n",
    "for dicts in dataset:\n",
    "    Ranking.append(dicts.get('Ranking'))\n",
    "    Name.append(dicts.get('Name'))\n",
    "    Nat.append(dicts.get('Nat'))\n",
    "    SP.append(dicts.get('SP'))\n",
    "    FS.append(dicts.get('FS'))\n",
    "    Total.append(dicts.get('Total'))\n",
    "\n",
    "print(Name)"
   ]
  },
  {
   "cell_type": "code",
   "execution_count": null,
   "metadata": {},
   "outputs": [],
   "source": []
  }
 ],
 "metadata": {
  "kernelspec": {
   "display_name": "Python 3",
   "language": "python",
   "name": "python3"
  },
  "language_info": {
   "codemirror_mode": {
    "name": "ipython",
    "version": 3
   },
   "file_extension": ".py",
   "mimetype": "text/x-python",
   "name": "python",
   "nbconvert_exporter": "python",
   "pygments_lexer": "ipython3",
   "version": "3.6.9"
  }
 },
 "nbformat": 4,
 "nbformat_minor": 2
}
